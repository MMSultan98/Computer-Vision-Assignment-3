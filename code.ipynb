{
 "cells": [
  {
   "cell_type": "markdown",
   "metadata": {},
   "source": [
    "### Imports"
   ]
  },
  {
   "cell_type": "code",
   "execution_count": 165,
   "metadata": {},
   "outputs": [],
   "source": [
    "import os\n",
    "from PIL import Image"
   ]
  },
  {
   "cell_type": "markdown",
   "metadata": {},
   "source": [
    "### Helper functions"
   ]
  },
  {
   "cell_type": "markdown",
   "metadata": {},
   "source": [
    "Function to apply histogram equalization on an image"
   ]
  },
  {
   "cell_type": "code",
   "execution_count": 166,
   "metadata": {},
   "outputs": [],
   "source": [
    "def EqualizeImage(image):\n",
    "    histogram = CalculateHistogram(image);\n",
    "    cumulative_histogram = CalculateCumulativeHistogram(histogram)\n",
    "    new_intensities = CalculateEqualizedHistogram(cumulative_histogram, image.size)\n",
    "    equalized_image = CalculateEqualizedImage(image, new_intensities)\n",
    "    return equalized_image"
   ]
  },
  {
   "cell_type": "markdown",
   "metadata": {},
   "source": [
    "### Main functions"
   ]
  },
  {
   "cell_type": "markdown",
   "metadata": {},
   "source": [
    "CalculateHistogram function"
   ]
  },
  {
   "cell_type": "code",
   "execution_count": 167,
   "metadata": {},
   "outputs": [],
   "source": [
    "def CalculateHistogram(image):\n",
    "    n, m = image.size\n",
    "    histogram = [0] * 256\n",
    "    for i in range(n):\n",
    "        for j in range(m):\n",
    "            histogram[image.getpixel((i,j))] += 1\n",
    "    return histogram"
   ]
  },
  {
   "cell_type": "markdown",
   "metadata": {},
   "source": [
    "CalculateCumulativeHistogram function"
   ]
  },
  {
   "cell_type": "code",
   "execution_count": 168,
   "metadata": {},
   "outputs": [],
   "source": [
    "def CalculateCumulativeHistogram(histogram):\n",
    "    cumulative_histogram = [0] * 256\n",
    "    cumulative_histogram[0] = histogram[0]\n",
    "    for i in range(1, len(histogram)):\n",
    "        cumulative_histogram[i] = cumulative_histogram[i-1] + histogram[i]\n",
    "    return cumulative_histogram"
   ]
  },
  {
   "cell_type": "markdown",
   "metadata": {},
   "source": [
    "CalculateEqualizedHistogram function"
   ]
  },
  {
   "cell_type": "code",
   "execution_count": 169,
   "metadata": {},
   "outputs": [],
   "source": [
    "def CalculateEqualizedHistogram(cumulative_histogram, image_size):\n",
    "    n, m = image_size\n",
    "    new_intensities = []\n",
    "    for i in range(len(cumulative_histogram)):\n",
    "        new_value = round(255 / ((n*m) - cumulative_histogram[0]) * (cumulative_histogram[i] - cumulative_histogram[0]))\n",
    "        new_intensities.append(new_value)\n",
    "    return new_intensities"
   ]
  },
  {
   "cell_type": "markdown",
   "metadata": {},
   "source": [
    "CalculateEqualizedImage function"
   ]
  },
  {
   "cell_type": "code",
   "execution_count": 170,
   "metadata": {},
   "outputs": [],
   "source": [
    "def CalculateEqualizedImage(image,  new_intensities):\n",
    "    n, m = image.size\n",
    "    equalized_image = Image.new(\"L\", (n,m))\n",
    "    for i in range(n):\n",
    "        for j in range(m):\n",
    "            old_value = image.getpixel((i,j))\n",
    "            new_value = new_intensities[old_value]\n",
    "            equalized_image.putpixel((i,j), new_value)\n",
    "    return equalized_image"
   ]
  },
  {
   "cell_type": "markdown",
   "metadata": {},
   "source": [
    "SegmentOptimalThresholding function"
   ]
  },
  {
   "cell_type": "code",
   "execution_count": 171,
   "metadata": {},
   "outputs": [],
   "source": [
    "def SegmentOptimalThresholding(image):\n",
    "    n, m = image.size\n",
    "    segmented_image = Image.new(\"1\", (n,m), 1)\n",
    "    segmented_image.putpixel((0,0), 0)\n",
    "    segmented_image.putpixel((0,m-1), 0)\n",
    "    segmented_image.putpixel((n-1,0), 0)\n",
    "    segmented_image.putpixel((n-1,m-1), 0)\n",
    "    old_threshold = -1\n",
    "    while True:\n",
    "        sum_background = 0\n",
    "        num_background = 0\n",
    "        sum_object = 0\n",
    "        num_object = 0\n",
    "        for i in range(n):\n",
    "            for j in range(m):\n",
    "                if segmented_image.getpixel((i,j)) == 0:\n",
    "                    sum_background += image.getpixel((i,j))\n",
    "                    num_background += 1\n",
    "                else:\n",
    "                    sum_object += image.getpixel((i,j))\n",
    "                    num_object += 1\n",
    "        mean_background = sum_background / num_background\n",
    "        mean_object = sum_object / num_object\n",
    "        new_threshold = (mean_background + mean_object) / 2\n",
    "        if new_threshold == old_threshold:\n",
    "            break\n",
    "        for i in range(n):\n",
    "            for j in range(m):\n",
    "                if image.getpixel((i,j)) < new_threshold:\n",
    "                    segmented_image.putpixel((i,j), 0)\n",
    "                else:\n",
    "                    segmented_image.putpixel((i,j), 1)\n",
    "        old_threshold = new_threshold\n",
    "    return segmented_image"
   ]
  },
  {
   "cell_type": "markdown",
   "metadata": {},
   "source": [
    "### Test"
   ]
  },
  {
   "cell_type": "code",
   "execution_count": 181,
   "metadata": {},
   "outputs": [],
   "source": [
    "current_directory = os.getcwd()\n",
    "image_path = current_directory + R\"\\images\\1.jpg\"\n",
    "image = Image.open(image_path)\n",
    "image = image.convert(\"L\")"
   ]
  },
  {
   "cell_type": "code",
   "execution_count": 182,
   "metadata": {},
   "outputs": [],
   "source": [
    "segmented_image = SegmentOptimalThresholding(image)\n",
    "equalized_image = EqualizeImage(image)\n",
    "segmented_equalized_image = SegmentOptimalThresholding(equalized_image)"
   ]
  },
  {
   "cell_type": "code",
   "execution_count": 183,
   "metadata": {},
   "outputs": [],
   "source": [
    "image.save(current_directory + R\"\\1_original.jpg\")\n",
    "segmented_image.save(current_directory + R\"\\1_segmented.jpg\")\n",
    "equalized_image.save(current_directory + R\"\\1_equalized.jpg\")\n",
    "segmented_equalized_image.save(current_directory + R\"\\1_segmented_equalized.jpg\")"
   ]
  },
  {
   "cell_type": "markdown",
   "metadata": {},
   "source": [
    "### Comments"
   ]
  },
  {
   "cell_type": "markdown",
   "metadata": {},
   "source": []
  }
 ],
 "metadata": {
  "interpreter": {
   "hash": "b3ba2566441a7c06988d0923437866b63cedc61552a5af99d1f4fb67d367b25f"
  },
  "kernelspec": {
   "display_name": "Python 3.8.12 64-bit ('base': conda)",
   "language": "python",
   "name": "python3"
  },
  "language_info": {
   "codemirror_mode": {
    "name": "ipython",
    "version": 3
   },
   "file_extension": ".py",
   "mimetype": "text/x-python",
   "name": "python",
   "nbconvert_exporter": "python",
   "pygments_lexer": "ipython3",
   "version": "3.8.12"
  },
  "orig_nbformat": 4
 },
 "nbformat": 4,
 "nbformat_minor": 2
}
